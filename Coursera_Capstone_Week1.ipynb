{
  "nbformat": 4,
  "nbformat_minor": 0,
  "metadata": {
    "colab": {
      "name": "Coursera_Capstone_Week1.ipynb",
      "provenance": [],
      "authorship_tag": "ABX9TyNGWyXLfspwgpu+tuO01/7a",
      "include_colab_link": true
    },
    "kernelspec": {
      "name": "python3",
      "display_name": "Python 3"
    }
  },
  "cells": [
    {
      "cell_type": "markdown",
      "metadata": {
        "id": "view-in-github",
        "colab_type": "text"
      },
      "source": [
        "<a href=\"https://colab.research.google.com/github/jade-lam/Coursera_Capstone/blob/master/Coursera_Capstone_Week1.ipynb\" target=\"_parent\"><img src=\"https://colab.research.google.com/assets/colab-badge.svg\" alt=\"Open In Colab\"/></a>"
      ]
    },
    {
      "cell_type": "markdown",
      "metadata": {
        "id": "NfXGy1ej1TQg",
        "colab_type": "text"
      },
      "source": [
        "<h1>Coursera - Applied Data Science Capstone Project</h1>\n",
        "<h4>This notebook is for the capstone project</h4>\n"
      ]
    },
    {
      "cell_type": "code",
      "metadata": {
        "id": "Qa9_j1Zm1XeB",
        "colab_type": "code",
        "colab": {
          "base_uri": "https://localhost:8080/",
          "height": 35
        },
        "outputId": "919c2d66-d7f5-4efc-9a18-cf9f2b891898"
      },
      "source": [
        "import pandas as pd\n",
        "import numpy as np\n",
        "\n",
        "print(\"Hello Capstone Project Course!\")"
      ],
      "execution_count": 2,
      "outputs": [
        {
          "output_type": "stream",
          "text": [
            "Hello Capstone Project Course!\n"
          ],
          "name": "stdout"
        }
      ]
    }
  ]
}