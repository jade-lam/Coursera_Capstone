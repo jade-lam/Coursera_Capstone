{
  "nbformat": 4,
  "nbformat_minor": 0,
  "metadata": {
    "colab": {
      "name": "Segmenting and Clustering Neighborhoods in Toronto",
      "provenance": [],
      "authorship_tag": "ABX9TyMOQFQnQDnr3QFsXl/LUBuV",
      "include_colab_link": true
    },
    "kernelspec": {
      "name": "python3",
      "display_name": "Python 3"
    }
  },
  "cells": [
    {
      "cell_type": "markdown",
      "metadata": {
        "id": "view-in-github",
        "colab_type": "text"
      },
      "source": [
        "<a href=\"https://colab.research.google.com/github/jade-lam/Coursera_Capstone/blob/master/Segmenting_and_Clustering_Neighborhoods_in_Toronto.ipynb\" target=\"_parent\"><img src=\"https://colab.research.google.com/assets/colab-badge.svg\" alt=\"Open In Colab\"/></a>"
      ]
    },
    {
      "cell_type": "markdown",
      "metadata": {
        "id": "m-2sUiH4M0gX",
        "colab_type": "text"
      },
      "source": [
        "<h2><b>Segmenting and Clustering Neighborhoods in Toronto</b></h2>\n",
        "<h5>\n",
        "This repository is part of the IBM Data Science Professional Certificate Capstone Project. This project aims to segment and cluster Toronto's neighbourhoods using K-means clustering method.\n",
        "</h5>\n"
      ]
    },
    {
      "cell_type": "markdown",
      "metadata": {
        "id": "5u8dV1S9N6rw",
        "colab_type": "text"
      },
      "source": [
        "<h4><b>Part 1: Scraping Toronto Postal Code Data from Wikipidea</b></h4>\n",
        "data source: https://en.wikipedia.org/wiki/List_of_postal_codes_of_Canada:_M "
      ]
    },
    {
      "cell_type": "code",
      "metadata": {
        "id": "Axc98AzwMzAF",
        "colab_type": "code",
        "colab": {
          "base_uri": "https://localhost:8080/",
          "height": 35
        },
        "outputId": "ed26c75c-74f8-4206-b307-84f84b602353"
      },
      "source": [
        "import bs4\n",
        "import requests \n",
        "import pandas as pd\n",
        "from bs4 import BeautifulSoup\n",
        "\n",
        "url = \"https://en.wikipedia.org/wiki/List_of_postal_codes_of_Canada:_M\"\n",
        "r = requests.get(url)\n",
        "\n",
        "# passing neighbourhood table into dataframe\n",
        "content = pd.read_html(r.text)\n",
        "alldata = content[0]\n",
        "\n",
        "# drop data in Borough that is \"Not Assigned\"\n",
        "dataexclna = alldata[alldata[\"Borough\"]!=\"Not assigned\"]\n",
        "\n",
        "# merge neighborhood with same post code\n",
        "cdata = dataexclna.groupby(['Postal Code','Borough'], sort=False).agg(', '.join)\n",
        "cdata.reset_index(inplace=True)\n",
        "\n",
        "cdata.shape"
      ],
      "execution_count": 129,
      "outputs": [
        {
          "output_type": "execute_result",
          "data": {
            "text/plain": [
              "(103, 3)"
            ]
          },
          "metadata": {
            "tags": []
          },
          "execution_count": 129
        }
      ]
    }
  ]
}