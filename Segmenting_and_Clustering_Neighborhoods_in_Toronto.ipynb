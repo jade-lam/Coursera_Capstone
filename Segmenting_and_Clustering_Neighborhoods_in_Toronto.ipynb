{
  "nbformat": 4,
  "nbformat_minor": 0,
  "metadata": {
    "colab": {
      "name": "Segmenting and Clustering Neighborhoods in Toronto",
      "provenance": [],
      "collapsed_sections": [],
      "authorship_tag": "ABX9TyPl1dRHngKgsXFheyfrH8n2",
      "include_colab_link": true
    },
    "kernelspec": {
      "name": "python3",
      "display_name": "Python 3"
    }
  },
  "cells": [
    {
      "cell_type": "markdown",
      "metadata": {
        "id": "view-in-github",
        "colab_type": "text"
      },
      "source": [
        "<a href=\"https://colab.research.google.com/github/jade-lam/Coursera_Capstone/blob/master/Segmenting_and_Clustering_Neighborhoods_in_Toronto.ipynb\" target=\"_parent\"><img src=\"https://colab.research.google.com/assets/colab-badge.svg\" alt=\"Open In Colab\"/></a>"
      ]
    },
    {
      "cell_type": "markdown",
      "metadata": {
        "id": "m-2sUiH4M0gX",
        "colab_type": "text"
      },
      "source": [
        "<h2><b>Segmenting and Clustering Neighborhoods in Toronto</b></h2>\n",
        "<h5>\n",
        "This repository is part of the IBM Data Science Professional Certificate Capstone Project. This project aims to segment and cluster Toronto's neighbourhoods using K-means clustering method.\n",
        "</h5>\n"
      ]
    },
    {
      "cell_type": "markdown",
      "metadata": {
        "id": "5u8dV1S9N6rw",
        "colab_type": "text"
      },
      "source": [
        "<h4><b>Part 1: Scraping Toronto Postal Code Data from Wikipidea</b></h4>\n",
        "data source: https://en.wikipedia.org/wiki/List_of_postal_codes_of_Canada:_M "
      ]
    },
    {
      "cell_type": "code",
      "metadata": {
        "id": "Axc98AzwMzAF",
        "colab_type": "code",
        "colab": {
          "base_uri": "https://localhost:8080/",
          "height": 35
        },
        "outputId": "ed26c75c-74f8-4206-b307-84f84b602353"
      },
      "source": [
        "import bs4\n",
        "import requests \n",
        "import pandas as pd\n",
        "from bs4 import BeautifulSoup\n",
        "\n",
        "url = \"https://en.wikipedia.org/wiki/List_of_postal_codes_of_Canada:_M\"\n",
        "r = requests.get(url)\n",
        "\n",
        "# passing neighbourhood table into dataframe\n",
        "content = pd.read_html(r.text)\n",
        "alldata = content[0]\n",
        "\n",
        "# drop data in Borough that is \"Not Assigned\"\n",
        "dataexclna = alldata[alldata[\"Borough\"]!=\"Not assigned\"]\n",
        "\n",
        "# merge neighborhood with same post code\n",
        "cdata = dataexclna.groupby(['Postal Code','Borough'], sort=False).agg(', '.join)\n",
        "cdata.reset_index(inplace=True)\n",
        "\n",
        "cdata.shape"
      ],
      "execution_count": 129,
      "outputs": [
        {
          "output_type": "execute_result",
          "data": {
            "text/plain": [
              "(103, 3)"
            ]
          },
          "metadata": {
            "tags": []
          },
          "execution_count": 129
        }
      ]
    },
    {
      "cell_type": "markdown",
      "metadata": {
        "id": "q8b7cFqgVC6U",
        "colab_type": "text"
      },
      "source": [
        "<h4><b>Part 2: Merging latitude and longitude coordinates to each Toronto Postal Code</b></h4>\n",
        "data source: https://cocl.us/Geospatial_data\n"
      ]
    },
    {
      "cell_type": "code",
      "metadata": {
        "id": "VJvbWrEHVZ7f",
        "colab_type": "code",
        "colab": {
          "base_uri": "https://localhost:8080/",
          "height": 202
        },
        "outputId": "3b72326b-199e-4044-948e-b7087aef4c73"
      },
      "source": [
        "# examine the latitude and longitude data file\n",
        "latlongurl = 'https://cocl.us/Geospatial_data'\n",
        "latlong = pd.read_csv(latlongurl)\n",
        "\n",
        "latlong.head()"
      ],
      "execution_count": 133,
      "outputs": [
        {
          "output_type": "execute_result",
          "data": {
            "text/html": [
              "<div>\n",
              "<style scoped>\n",
              "    .dataframe tbody tr th:only-of-type {\n",
              "        vertical-align: middle;\n",
              "    }\n",
              "\n",
              "    .dataframe tbody tr th {\n",
              "        vertical-align: top;\n",
              "    }\n",
              "\n",
              "    .dataframe thead th {\n",
              "        text-align: right;\n",
              "    }\n",
              "</style>\n",
              "<table border=\"1\" class=\"dataframe\">\n",
              "  <thead>\n",
              "    <tr style=\"text-align: right;\">\n",
              "      <th></th>\n",
              "      <th>Postal Code</th>\n",
              "      <th>Latitude</th>\n",
              "      <th>Longitude</th>\n",
              "    </tr>\n",
              "  </thead>\n",
              "  <tbody>\n",
              "    <tr>\n",
              "      <th>0</th>\n",
              "      <td>M1B</td>\n",
              "      <td>43.806686</td>\n",
              "      <td>-79.194353</td>\n",
              "    </tr>\n",
              "    <tr>\n",
              "      <th>1</th>\n",
              "      <td>M1C</td>\n",
              "      <td>43.784535</td>\n",
              "      <td>-79.160497</td>\n",
              "    </tr>\n",
              "    <tr>\n",
              "      <th>2</th>\n",
              "      <td>M1E</td>\n",
              "      <td>43.763573</td>\n",
              "      <td>-79.188711</td>\n",
              "    </tr>\n",
              "    <tr>\n",
              "      <th>3</th>\n",
              "      <td>M1G</td>\n",
              "      <td>43.770992</td>\n",
              "      <td>-79.216917</td>\n",
              "    </tr>\n",
              "    <tr>\n",
              "      <th>4</th>\n",
              "      <td>M1H</td>\n",
              "      <td>43.773136</td>\n",
              "      <td>-79.239476</td>\n",
              "    </tr>\n",
              "  </tbody>\n",
              "</table>\n",
              "</div>"
            ],
            "text/plain": [
              "  Postal Code   Latitude  Longitude\n",
              "0         M1B  43.806686 -79.194353\n",
              "1         M1C  43.784535 -79.160497\n",
              "2         M1E  43.763573 -79.188711\n",
              "3         M1G  43.770992 -79.216917\n",
              "4         M1H  43.773136 -79.239476"
            ]
          },
          "metadata": {
            "tags": []
          },
          "execution_count": 133
        }
      ]
    },
    {
      "cell_type": "code",
      "metadata": {
        "id": "V8U92qYFWG6x",
        "colab_type": "code",
        "colab": {
          "base_uri": "https://localhost:8080/",
          "height": 202
        },
        "outputId": "7c93eadf-9bfa-4974-d898-4f780d395858"
      },
      "source": [
        "# merge neighborhood data with longlat dataset by Postal Code\n",
        "mergeddata = pd.merge(left=cdata, right=latlong, how='left', left_on='Postal Code', right_on='Postal Code')\n",
        "mergeddata.head()"
      ],
      "execution_count": 138,
      "outputs": [
        {
          "output_type": "execute_result",
          "data": {
            "text/html": [
              "<div>\n",
              "<style scoped>\n",
              "    .dataframe tbody tr th:only-of-type {\n",
              "        vertical-align: middle;\n",
              "    }\n",
              "\n",
              "    .dataframe tbody tr th {\n",
              "        vertical-align: top;\n",
              "    }\n",
              "\n",
              "    .dataframe thead th {\n",
              "        text-align: right;\n",
              "    }\n",
              "</style>\n",
              "<table border=\"1\" class=\"dataframe\">\n",
              "  <thead>\n",
              "    <tr style=\"text-align: right;\">\n",
              "      <th></th>\n",
              "      <th>Postal Code</th>\n",
              "      <th>Borough</th>\n",
              "      <th>Neighbourhood</th>\n",
              "      <th>Latitude</th>\n",
              "      <th>Longitude</th>\n",
              "    </tr>\n",
              "  </thead>\n",
              "  <tbody>\n",
              "    <tr>\n",
              "      <th>0</th>\n",
              "      <td>M3A</td>\n",
              "      <td>North York</td>\n",
              "      <td>Parkwoods</td>\n",
              "      <td>43.753259</td>\n",
              "      <td>-79.329656</td>\n",
              "    </tr>\n",
              "    <tr>\n",
              "      <th>1</th>\n",
              "      <td>M4A</td>\n",
              "      <td>North York</td>\n",
              "      <td>Victoria Village</td>\n",
              "      <td>43.725882</td>\n",
              "      <td>-79.315572</td>\n",
              "    </tr>\n",
              "    <tr>\n",
              "      <th>2</th>\n",
              "      <td>M5A</td>\n",
              "      <td>Downtown Toronto</td>\n",
              "      <td>Regent Park, Harbourfront</td>\n",
              "      <td>43.654260</td>\n",
              "      <td>-79.360636</td>\n",
              "    </tr>\n",
              "    <tr>\n",
              "      <th>3</th>\n",
              "      <td>M6A</td>\n",
              "      <td>North York</td>\n",
              "      <td>Lawrence Manor, Lawrence Heights</td>\n",
              "      <td>43.718518</td>\n",
              "      <td>-79.464763</td>\n",
              "    </tr>\n",
              "    <tr>\n",
              "      <th>4</th>\n",
              "      <td>M7A</td>\n",
              "      <td>Downtown Toronto</td>\n",
              "      <td>Queen's Park, Ontario Provincial Government</td>\n",
              "      <td>43.662301</td>\n",
              "      <td>-79.389494</td>\n",
              "    </tr>\n",
              "  </tbody>\n",
              "</table>\n",
              "</div>"
            ],
            "text/plain": [
              "  Postal Code           Borough  ...   Latitude  Longitude\n",
              "0         M3A        North York  ...  43.753259 -79.329656\n",
              "1         M4A        North York  ...  43.725882 -79.315572\n",
              "2         M5A  Downtown Toronto  ...  43.654260 -79.360636\n",
              "3         M6A        North York  ...  43.718518 -79.464763\n",
              "4         M7A  Downtown Toronto  ...  43.662301 -79.389494\n",
              "\n",
              "[5 rows x 5 columns]"
            ]
          },
          "metadata": {
            "tags": []
          },
          "execution_count": 138
        }
      ]
    }
  ]
}